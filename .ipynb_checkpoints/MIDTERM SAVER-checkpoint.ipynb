{
 "cells": [
  {
   "cell_type": "code",
   "execution_count": 351,
   "metadata": {},
   "outputs": [],
   "source": [
    "import requests\n",
    "from bs4 import BeautifulSoup\n",
    "from tqdm import tqdm\n",
    "from IES_Downloader import IES_Downloader\n",
    "import pandas as pd\n",
    "import math"
   ]
  },
  {
   "cell_type": "code",
   "execution_count": 3,
   "metadata": {},
   "outputs": [
    {
     "name": "stdout",
     "output_type": "stream",
     "text": [
      "Requirement already satisfied: lxml in c:\\users\\marketa.cervena\\appdata\\local\\continuum\\anaconda3\\envs\\py3\\lib\\site-packages (4.4.1)\n",
      "Note: you may need to restart the kernel to use updated packages.\n"
     ]
    }
   ],
   "source": [
    "pip install lxml"
   ]
  },
  {
   "cell_type": "code",
   "execution_count": 57,
   "metadata": {},
   "outputs": [
    {
     "name": "stdout",
     "output_type": "stream",
     "text": [
      "User-agent: Sogou\n",
      "User-agent: Baiduspider\n",
      "User-agent: YoudaoBot\n",
      "Disallow: /\n",
      "\n",
      "Host: www.czc.cz\n",
      "\n",
      "User-Agent: *\n",
      "Disallow: /login\n",
      "Disallow: /*/login\n",
      "Disallow: /kosik/\n",
      "Disallow: /dokoncit-registraci\n",
      "Disallow: /email/*\n",
      "Disallow: /change-password\n",
      "Disallow: /zmenit-heslo/\n",
      "Disallow: /*/nova$\n",
      "Disallow: /*/novy$\n",
      "Disallow: /*/priloha\n",
      "Disallow: /*/upload-image\n",
      "Disallow: /*?q-count=\n",
      "Disallow: /*&q-count=\n",
      "Disallow: /*?q-order=\n",
      "Disallow: /*&q-order=\n",
      "Disallow: /*?q-direction=\n",
      "Disallow: /*&q-direction=\n",
      "Disallow: /*?position=\n",
      "Disallow: /*&position=\n",
      "Disallow: /*?q-c*=\n",
      "Disallow: /*&q-c*=\n",
      "Disallow: /*?related=\n",
      "Disallow: /*&related=\n",
      "Disallow: /*.jsm\n",
      "Disallow: /letaky\n",
      "Disallow: /support\n",
      "Disallow: /czc/products.nsf/\n",
      "Disallow: /czc/media.nsf/\n",
      "Disallow: /art_list.jsp\n",
      "Disallow: /captcha.jsp\n",
      "Disallow: /MAIN.aspx\n",
      "Disallow: /Main.aspx\n",
      "Disallow: /DEFAULT.aspx\n",
      "\n",
      "Disallow: /*/kontakty\n",
      "Disallow: /*/soukromi\n",
      "Disallow: /*/pobocky\n",
      "Disallow: /*/pro-firmy\n",
      "Disallow: /*/volna-mista\n",
      "Disallow: /*/autodiscover.xml\n",
      "\n",
      "Allow: /geek/*/clanek\n",
      "Disallow: /*/*/clanek\n",
      "\n",
      "Allow: /\n",
      "\n",
      "Sitemap: https://www.czc.cz/sitemap.xml\n",
      "Sitemap: https://www.czc.cz/sitemap-producer-params.xml\n",
      "Sitemap: https://www.czc.cz/sitemap-params.xml\n",
      "\n"
     ]
    }
   ],
   "source": [
    "print(requests.get('https://www.czc.cz/robots.txt').text)"
   ]
  },
  {
   "cell_type": "code",
   "execution_count": 319,
   "metadata": {},
   "outputs": [
    {
     "data": {
      "text/plain": [
       "'https://www.czc.cz/black-friday-2019/produkty'"
      ]
     },
     "execution_count": 319,
     "metadata": {},
     "output_type": "execute_result"
    }
   ],
   "source": []
  },
  {
   "cell_type": "code",
   "execution_count": 591,
   "metadata": {},
   "outputs": [],
   "source": [
    "#very messy and linear way to work\n",
    "    def countPages(main_link):\n",
    "        soup = getSoup(main_link)\n",
    "        itms = int(str(soup.findAll('div',{'class','order-by-sum h-800'})).split(\">\")[1].split(\"<\")[0].split(\" \")[0].replace(u'\\xa0', u''))\n",
    "        pgs = math.ceil(itms/27)\n",
    "        return pgs\n",
    "\n",
    "    def getLinks(main_link):\n",
    "        pgs = countPages(main_link)\n",
    "        links = pd.DataFrame(index = range(pgs),columns = ['Links'])\n",
    "        links.loc[0,'Links']=str(main_link)\n",
    "        for i in range(1,pgs): links.loc[i,'Links'] = str(main_link) +\"?q-first\"+str(int(27*i))\n",
    "        return links\n",
    "       \n",
    "    def getProducts(link):\n",
    "        soup = getSoup(link)\n",
    "        prds = soup.findAll('div', {'class':'overflow'})\n",
    "        return prds\n",
    "\n",
    "    def ALLProducts(main_link):\n",
    "        links = getLinks(main_link).loc[:,'Links']\n",
    "        L=len(links)\n",
    "        lst = pd.DataFrame()\n",
    "        for i in range(L): lst = lst.append(getProducts(links.loc[i]), ignore_index=True)     \n",
    "        return lst\n",
    "\n",
    "    def getList(main_link):\n",
    "        INP = ALLProducts(main_link).loc[:,0]\n",
    "        L=len(INP)\n",
    "        lst =  pd.DataFrame(columns=['Product','Price'], index = range(L))\n",
    "        for i in range(L):\n",
    "            lst.loc[i,'Product']= INP[i].find('a')['title'].split(\",\")[0].split(\" +\")[0]\n",
    "            price = INP[i].findAll('span',{'class':'price-vatin'})\n",
    "            l=len(price)-1\n",
    "            lst.loc[i,'Price']= str(str(price[l]).split(\"<\")[1].split(\">\")[1])\n",
    "        \n",
    "    return lst\n",
    "        \n",
    "main_link ='https://www.czc.cz/black-friday-2019/produkty'\n",
    "getList(main_link)"
   ]
  },
  {
   "cell_type": "code",
   "execution_count": 611,
   "metadata": {},
   "outputs": [],
   "source": [
    "from IES_Downloader import IES_Downloader"
   ]
  },
  {
   "cell_type": "code",
   "execution_count": 612,
   "metadata": {},
   "outputs": [
    {
     "ename": "ModuleNotFoundError",
     "evalue": "No module named 'CZC_Downloader'",
     "output_type": "error",
     "traceback": [
      "\u001b[1;31m---------------------------------------------------------------------------\u001b[0m",
      "\u001b[1;31mModuleNotFoundError\u001b[0m                       Traceback (most recent call last)",
      "\u001b[1;32m<ipython-input-612-bb2d185345c4>\u001b[0m in \u001b[0;36m<module>\u001b[1;34m\u001b[0m\n\u001b[1;32m----> 1\u001b[1;33m \u001b[1;32mfrom\u001b[0m \u001b[0mCZC_Downloader\u001b[0m \u001b[1;32mimport\u001b[0m \u001b[0mCZC_Downloader\u001b[0m\u001b[1;33m\u001b[0m\u001b[1;33m\u001b[0m\u001b[0m\n\u001b[0m",
      "\u001b[1;31mModuleNotFoundError\u001b[0m: No module named 'CZC_Downloader'"
     ]
    }
   ],
   "source": [
    "from CZC_Downloader import CZC_Downloader"
   ]
  },
  {
   "cell_type": "code",
   "execution_count": 605,
   "metadata": {},
   "outputs": [
    {
     "ename": "NameError",
     "evalue": "name 'listCategories' is not defined",
     "output_type": "error",
     "traceback": [
      "\u001b[1;31m---------------------------------------------------------------------------\u001b[0m",
      "\u001b[1;31mNameError\u001b[0m                                 Traceback (most recent call last)",
      "\u001b[1;32m<ipython-input-605-59c8e585f85b>\u001b[0m in \u001b[0;36m<module>\u001b[1;34m\u001b[0m\n\u001b[1;32m----> 1\u001b[1;33m \u001b[0mlistCategories\u001b[0m\u001b[1;33m(\u001b[0m\u001b[1;34m'https://www.czc.cz'\u001b[0m\u001b[1;33m)\u001b[0m\u001b[1;33m\u001b[0m\u001b[1;33m\u001b[0m\u001b[0m\n\u001b[0m\u001b[0;32m      2\u001b[0m \u001b[0mlink\u001b[0m\u001b[1;33m.\u001b[0m\u001b[0mlistCategories\u001b[0m\u001b[1;33m(\u001b[0m\u001b[1;33m)\u001b[0m\u001b[1;33m\u001b[0m\u001b[1;33m\u001b[0m\u001b[0m\n",
      "\u001b[1;31mNameError\u001b[0m: name 'listCategories' is not defined"
     ]
    }
   ],
   "source": [
    "listCategories('https://www.czc.cz')\n",
    "link.listCategories()"
   ]
  },
  {
   "cell_type": "code",
   "execution_count": 603,
   "metadata": {},
   "outputs": [
    {
     "ename": "SyntaxError",
     "evalue": "invalid syntax (<ipython-input-603-a3fcdc2e1657>, line 1)",
     "output_type": "error",
     "traceback": [
      "\u001b[1;36m  File \u001b[1;32m\"<ipython-input-603-a3fcdc2e1657>\"\u001b[1;36m, line \u001b[1;32m1\u001b[0m\n\u001b[1;33m    class web\u001b[0m\n\u001b[1;37m             ^\u001b[0m\n\u001b[1;31mSyntaxError\u001b[0m\u001b[1;31m:\u001b[0m invalid syntax\n"
     ]
    }
   ],
   "source": [
    "class web\n",
    "\n",
    "def __init__(self,link)\n",
    "        self.link = link\n",
    "        r = requests.get(link)\n",
    "        r.encoding='UTF-8'\n",
    "        self.soup = BeautifulSoup(r.text,'lxml')\n",
    "        \n",
    "        \n",
    "def listCategories(self):\n",
    "        '''\n",
    "        Returns all available categories. \n",
    "        '''\n",
    "        return self.soup.findALL('div',{'class','main-menu__dep'}).text.strip()        \n",
    "\n",
    "  "
   ]
  },
  {
   "cell_type": "code",
   "execution_count": null,
   "metadata": {},
   "outputs": [],
   "source": []
  },
  {
   "cell_type": "code",
   "execution_count": null,
   "metadata": {},
   "outputs": [],
   "source": []
  },
  {
   "cell_type": "code",
   "execution_count": null,
   "metadata": {},
   "outputs": [],
   "source": []
  },
  {
   "cell_type": "code",
   "execution_count": null,
   "metadata": {
    "scrolled": true
   },
   "outputs": [],
   "source": []
  },
  {
   "cell_type": "code",
   "execution_count": null,
   "metadata": {},
   "outputs": [],
   "source": []
  },
  {
   "cell_type": "code",
   "execution_count": null,
   "metadata": {},
   "outputs": [],
   "source": []
  }
 ],
 "metadata": {
  "kernelspec": {
   "display_name": "Python 3",
   "language": "python",
   "name": "python3"
  },
  "language_info": {
   "codemirror_mode": {
    "name": "ipython",
    "version": 3
   },
   "file_extension": ".py",
   "mimetype": "text/x-python",
   "name": "python",
   "nbconvert_exporter": "python",
   "pygments_lexer": "ipython3",
   "version": "3.7.5"
  }
 },
 "nbformat": 4,
 "nbformat_minor": 2
}
