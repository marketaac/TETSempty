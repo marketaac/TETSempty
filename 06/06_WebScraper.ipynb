{
 "cells": [
  {
   "cell_type": "code",
   "execution_count": 1,
   "metadata": {},
   "outputs": [],
   "source": [
    "from IES_Downloader import IES_Downloader"
   ]
  },
  {
   "cell_type": "code",
   "execution_count": null,
   "metadata": {},
   "outputs": [
    {
     "name": "stdout",
     "output_type": "stream",
     "text": [
      "Succesfully initialized IES Downloader\n",
      "Searching for Person-links of Current faculty on http://ies.fsv.cuni.cz/en/node/48 ...\n",
      "Found 53 Person-links for Current faculty\n",
      "Searching for Person-links of External lecturers on http://ies.fsv.cuni.cz/en/node/49 ...\n",
      "Found 78 Person-links for External lecturers\n",
      "Searching for Person-links of Ph.D. candidates on http://ies.fsv.cuni.cz/en/node/51 ...\n",
      "Found 95 Person-links for Ph.D. candidates\n",
      "Searching for Person-links of Administration on http://ies.fsv.cuni.cz/en/node/50 ...\n",
      "Found 9 Person-links for Administration\n",
      "Searching for theses-links of Doctoral on http://ies.fsv.cuni.cz/en/node/270/ ...\n"
     ]
    },
    {
     "name": "stderr",
     "output_type": "stream",
     "text": [
      "Current faculty:   0%|          | 0/53 [00:00<?, ?it/s]"
     ]
    },
    {
     "name": "stdout",
     "output_type": "stream",
     "text": [
      "Found 88 Theses-links for Doctoral\n",
      "Downloading all 235 persons ...\n"
     ]
    },
    {
     "name": "stderr",
     "output_type": "stream",
     "text": [
      "Current faculty: 100%|██████████| 53/53 [00:42<00:00,  1.24it/s]\n",
      "External lecturers: 100%|██████████| 78/78 [01:02<00:00,  1.25it/s]\n",
      "Ph.D. candidates: 100%|██████████| 95/95 [01:16<00:00,  1.26it/s]\n",
      "Administration: 100%|██████████| 9/9 [00:07<00:00,  1.23it/s]\n",
      "Courses:   0%|          | 0/158 [00:00<?, ?it/s]"
     ]
    },
    {
     "name": "stdout",
     "output_type": "stream",
     "text": [
      "Succesfully downloaded 235 persons\n",
      "Looking for course links in already downloaded persons  ...\n",
      "Among 235 persons found 158 unique courses\n",
      "Downloading all 158 courses ...\n"
     ]
    },
    {
     "name": "stderr",
     "output_type": "stream",
     "text": [
      "Courses: 100%|██████████| 158/158 [02:03<00:00,  1.27it/s]\n",
      "Doctoral:   0%|          | 0/88 [00:00<?, ?it/s]"
     ]
    },
    {
     "name": "stdout",
     "output_type": "stream",
     "text": [
      "Succesfully downloaded 158 courses\n",
      "Downloading all 88 theses ...\n"
     ]
    },
    {
     "name": "stderr",
     "output_type": "stream",
     "text": [
      "Doctoral:  85%|████████▌ | 75/88 [02:49<00:29,  2.24s/it]"
     ]
    }
   ],
   "source": [
    "#Initialize downloader\n",
    "dl = IES_Downloader()\n",
    "\n",
    "# find all links for people\n",
    "dl.getPeopleLinksForCategory('http://ies.fsv.cuni.cz/en/node/48','Current faculty')\n",
    "dl.getPeopleLinksForCategory('http://ies.fsv.cuni.cz/en/node/49','External lecturers')\n",
    "dl.getPeopleLinksForCategory('http://ies.fsv.cuni.cz/en/node/51','Ph.D. candidates')\n",
    "dl.getPeopleLinksForCategory('http://ies.fsv.cuni.cz/en/node/50','Administration')\n",
    "\n",
    "# find all links for theses \n",
    "#dl.getThesesLinksForCategory('http://ies.fsv.cuni.cz/en/node/112/','Masters')\n",
    "#dl.getThesesLinksForCategory('http://ies.fsv.cuni.cz/en/node/111/','Bachelors')\n",
    "#dl.getThesesLinksForCategory('http://ies.fsv.cuni.cz/en/node/113/','Rigorosis')\n",
    "dl.getThesesLinksForCategory('http://ies.fsv.cuni.cz/en/node/270/','Doctoral')\n",
    "\n",
    "# donload all people from already downloaded links\n",
    "dl.downloadPeople()\n",
    "\n",
    "# find all links on courses from already parsed people\n",
    "dl.getCoursesLinksFromPersons()\n",
    "\n",
    "# download all courses from already downloaded links\n",
    "dl.downloadCourses()\n",
    "\n",
    "# download all theses from already downloaded links\n",
    "dl.downloadTheses(pause=2) #Many thanks to Mr. Gottfried who doesnt want us too scrape too much, so we must slow down here!\n",
    "\n",
    "#save Dfs to dl.dfs dictionary\n",
    "dl.saveDFs()"
   ]
  },
  {
   "cell_type": "code",
   "execution_count": null,
   "metadata": {},
   "outputs": [],
   "source": [
    "dl"
   ]
  },
  {
   "cell_type": "code",
   "execution_count": null,
   "metadata": {},
   "outputs": [],
   "source": [
    "dl.dfs['people']"
   ]
  },
  {
   "cell_type": "code",
   "execution_count": null,
   "metadata": {},
   "outputs": [],
   "source": []
  }
 ],
 "metadata": {
  "kernelspec": {
   "display_name": "Python 3",
   "language": "python",
   "name": "python3"
  },
  "language_info": {
   "codemirror_mode": {
    "name": "ipython",
    "version": 3
   },
   "file_extension": ".py",
   "mimetype": "text/x-python",
   "name": "python",
   "nbconvert_exporter": "python",
   "pygments_lexer": "ipython3",
   "version": "3.7.1"
  }
 },
 "nbformat": 4,
 "nbformat_minor": 2
}
